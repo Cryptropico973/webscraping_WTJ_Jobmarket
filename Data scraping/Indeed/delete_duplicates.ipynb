{
 "cells": [
  {
   "cell_type": "code",
   "execution_count": 18,
   "id": "initial_id",
   "metadata": {
    "collapsed": true,
    "ExecuteTime": {
     "end_time": "2024-02-05T15:40:05.768518Z",
     "start_time": "2024-02-05T15:40:05.761218Z"
    }
   },
   "outputs": [],
   "source": [
    "import pandas as pd\n",
    "import json"
   ]
  },
  {
   "cell_type": "code",
   "outputs": [],
   "source": [
    "with open('indeed_db.json', 'r', encoding='utf-8') as file:\n",
    "    data = json.load(file)\n"
   ],
   "metadata": {
    "collapsed": false,
    "ExecuteTime": {
     "end_time": "2024-02-05T15:40:08.363906Z",
     "start_time": "2024-02-05T15:40:08.236808Z"
    }
   },
   "id": "e50dcf1d2ed06fb2",
   "execution_count": 19
  },
  {
   "cell_type": "code",
   "outputs": [],
   "source": [
    "# Utiliser json_normalize pour créer un DataFrame en formatant le fichier\n",
    "df = pd.json_normalize(data)\n"
   ],
   "metadata": {
    "collapsed": false,
    "ExecuteTime": {
     "end_time": "2024-02-05T15:40:10.837762Z",
     "start_time": "2024-02-05T15:40:10.721431Z"
    }
   },
   "id": "32ab71cc025b998c",
   "execution_count": 20
  },
  {
   "cell_type": "code",
   "outputs": [],
   "source": [
    "# Appliquez la fonction à chaque élément de chaque colonne\n",
    "df = df.apply(lambda x: x.map(lambda y: ','.join(map(str, y)) if isinstance(y, list) else y))"
   ],
   "metadata": {
    "collapsed": false,
    "ExecuteTime": {
     "end_time": "2024-02-05T15:47:16.056946Z",
     "start_time": "2024-02-05T15:47:15.994443Z"
    }
   },
   "id": "ee3eaeb1e2b64a15",
   "execution_count": 24
  },
  {
   "cell_type": "code",
   "outputs": [],
   "source": [
    "df_no_duplicated = df[~df.duplicated()]\n"
   ],
   "metadata": {
    "collapsed": false,
    "ExecuteTime": {
     "end_time": "2024-02-05T15:56:23.011829Z",
     "start_time": "2024-02-05T15:56:22.989410Z"
    }
   },
   "id": "80f917e4110c0e65",
   "execution_count": 29
  },
  {
   "cell_type": "code",
   "outputs": [
    {
     "name": "stdout",
     "output_type": "stream",
     "text": [
      "<class 'pandas.core.frame.DataFrame'>\n",
      "Index: 10197 entries, 0 to 19283\n",
      "Data columns (total 29 columns):\n",
      " #   Column                           Non-Null Count  Dtype  \n",
      "---  ------                           --------------  -----  \n",
      " 0   job_title                        10196 non-null  object \n",
      " 1   company                          10196 non-null  object \n",
      " 2   job_location                     10052 non-null  object \n",
      " 3   zip_code                         4066 non-null   object \n",
      " 4   salary                           2433 non-null   object \n",
      " 5   contract_type                    0 non-null      float64\n",
      " 6   remote                           1866 non-null   object \n",
      " 7   Langages de Programmation        4312 non-null   object \n",
      " 8   Bases de Données                 1215 non-null   object \n",
      " 9   Analyse de Données               512 non-null    object \n",
      " 10  Big Data                         829 non-null    object \n",
      " 11  Machine Learning et Data Mining  435 non-null    object \n",
      " 12  Visualisation de Données         1118 non-null   object \n",
      " 13  Statistiques                     8 non-null      object \n",
      " 14  Cloud Computing                  2697 non-null   object \n",
      " 15  Outils de Développement          4986 non-null   object \n",
      " 16  Systèmes d'Exploitation          1075 non-null   object \n",
      " 17  Big Data et Processing           161 non-null    object \n",
      " 18  Automatisation et Orchestration  2377 non-null   object \n",
      " 19  Infrastructure as Code (IaC)     697 non-null    object \n",
      " 20  Sécurité et Réseau               260 non-null    object \n",
      " 21  Virtualisation                   251 non-null    object \n",
      " 22  Containers                       1547 non-null   object \n",
      " 23  Outils de Collaboration          1759 non-null   object \n",
      " 24  Compétences                      5949 non-null   object \n",
      " 25  company_size                     6118 non-null   object \n",
      " 26  company_turnover                 4113 non-null   object \n",
      " 27  company_industry                 8405 non-null   object \n",
      " 28  company_headquarter              6176 non-null   object \n",
      "dtypes: float64(1), object(28)\n",
      "memory usage: 2.3+ MB\n"
     ]
    }
   ],
   "source": [
    "df_no_duplicated.info()"
   ],
   "metadata": {
    "collapsed": false,
    "ExecuteTime": {
     "end_time": "2024-02-05T15:56:36.175131Z",
     "start_time": "2024-02-05T15:56:36.151093Z"
    }
   },
   "id": "4bc30f99e47eca1f",
   "execution_count": 30
  },
  {
   "cell_type": "code",
   "outputs": [],
   "source": [
    "df_no_duplicated.to_json('indeed_final_db.json', orient='records', lines=True)"
   ],
   "metadata": {
    "collapsed": false,
    "ExecuteTime": {
     "end_time": "2024-02-05T15:58:00.534801Z",
     "start_time": "2024-02-05T15:58:00.479273Z"
    }
   },
   "id": "c33b4654cfc20c2a",
   "execution_count": 33
  }
 ],
 "metadata": {
  "kernelspec": {
   "display_name": "Python 3",
   "language": "python",
   "name": "python3"
  },
  "language_info": {
   "codemirror_mode": {
    "name": "ipython",
    "version": 2
   },
   "file_extension": ".py",
   "mimetype": "text/x-python",
   "name": "python",
   "nbconvert_exporter": "python",
   "pygments_lexer": "ipython2",
   "version": "2.7.6"
  }
 },
 "nbformat": 4,
 "nbformat_minor": 5
}
