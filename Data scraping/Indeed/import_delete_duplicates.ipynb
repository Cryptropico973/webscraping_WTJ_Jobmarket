{
 "cells": [
  {
   "cell_type": "code",
   "execution_count": 1,
   "id": "initial_id",
   "metadata": {
    "collapsed": true,
    "ExecuteTime": {
     "end_time": "2024-02-08T13:24:36.360980Z",
     "start_time": "2024-02-08T13:24:34.804878Z"
    }
   },
   "outputs": [],
   "source": [
    "import pandas as pd\n",
    "import json"
   ]
  },
  {
   "cell_type": "code",
   "outputs": [],
   "source": [
    "with open('indeed_db_v2.json', 'r', encoding='utf-8') as file:\n",
    "    data = json.load(file)\n"
   ],
   "metadata": {
    "collapsed": false,
    "ExecuteTime": {
     "end_time": "2024-02-08T13:27:13.806804Z",
     "start_time": "2024-02-08T13:27:13.731765Z"
    }
   },
   "id": "e50dcf1d2ed06fb2",
   "execution_count": 3
  },
  {
   "cell_type": "code",
   "outputs": [],
   "source": [
    "# Utiliser json_normalize pour créer un DataFrame en formatant le fichier\n",
    "df = pd.json_normalize(data)"
   ],
   "metadata": {
    "collapsed": false,
    "ExecuteTime": {
     "end_time": "2024-02-08T13:27:21.855571Z",
     "start_time": "2024-02-08T13:27:21.805508Z"
    }
   },
   "id": "32ab71cc025b998c",
   "execution_count": 4
  },
  {
   "cell_type": "code",
   "outputs": [],
   "source": [
    "# Appliquez la fonction à chaque élément de chaque colonne\n",
    "df = df.apply(lambda x: x.map(lambda y: ','.join(map(str, y)) if isinstance(y, list) else y))"
   ],
   "metadata": {
    "collapsed": false,
    "ExecuteTime": {
     "end_time": "2024-02-08T13:27:36.433775Z",
     "start_time": "2024-02-08T13:27:36.362080Z"
    }
   },
   "id": "ee3eaeb1e2b64a15",
   "execution_count": 5
  },
  {
   "cell_type": "code",
   "outputs": [
    {
     "name": "stdout",
     "output_type": "stream",
     "text": [
      "<class 'pandas.core.frame.DataFrame'>\n",
      "RangeIndex: 19284 entries, 0 to 19283\n",
      "Data columns (total 28 columns):\n",
      " #   Column                           Non-Null Count  Dtype \n",
      "---  ------                           --------------  ----- \n",
      " 0   job_title                        17649 non-null  object\n",
      " 1   company                          17649 non-null  object\n",
      " 2   job_location                     17392 non-null  object\n",
      " 3   zip_code                         7144 non-null   object\n",
      " 4   salary                           1156 non-null   object\n",
      " 5   contract_type                    3577 non-null   object\n",
      " 6   remote                           3508 non-null   object\n",
      " 7   Langages de Programmation        8417 non-null   object\n",
      " 8   Bases de Données                 2519 non-null   object\n",
      " 9   Analyse de Données               1141 non-null   object\n",
      " 10  Big Data                         2010 non-null   object\n",
      " 11  Machine Learning et Data Mining  942 non-null    object\n",
      " 12  Visualisation de Données         2534 non-null   object\n",
      " 13  Statistiques                     27 non-null     object\n",
      " 14  Cloud Computing                  5531 non-null   object\n",
      " 15  Outils de Développement          8959 non-null   object\n",
      " 16  Systèmes d'Exploitation          1730 non-null   object\n",
      " 17  Big Data et Processing           329 non-null    object\n",
      " 18  Automatisation et Orchestration  4203 non-null   object\n",
      " 19  Infrastructure as Code (IaC)     1368 non-null   object\n",
      " 20  Sécurité et Réseau               397 non-null    object\n",
      " 21  Virtualisation                   366 non-null    object\n",
      " 22  Containers                       2905 non-null   object\n",
      " 23  Outils de Collaboration          3160 non-null   object\n",
      " 24  Compétences                      11571 non-null  object\n",
      " 25  company_size                     4169 non-null   object\n",
      " 26  company_turnover                 2870 non-null   object\n",
      " 27  company_industry                 5169 non-null   object\n",
      "dtypes: object(28)\n",
      "memory usage: 4.1+ MB\n"
     ]
    }
   ],
   "source": [
    "df.info()"
   ],
   "metadata": {
    "collapsed": false,
    "ExecuteTime": {
     "end_time": "2024-02-08T13:27:43.981989Z",
     "start_time": "2024-02-08T13:27:43.975216Z"
    }
   },
   "id": "80f917e4110c0e65",
   "execution_count": 6
  },
  {
   "cell_type": "code",
   "outputs": [],
   "source": [
    "df_no_duplicates = df[~df.duplicated()]"
   ],
   "metadata": {
    "collapsed": false,
    "ExecuteTime": {
     "end_time": "2024-02-08T13:31:59.312731Z",
     "start_time": "2024-02-08T13:31:59.293882Z"
    }
   },
   "id": "614d4fd63bf8b51e",
   "execution_count": 11
  },
  {
   "cell_type": "code",
   "outputs": [
    {
     "name": "stdout",
     "output_type": "stream",
     "text": [
      "<class 'pandas.core.frame.DataFrame'>\n",
      "Index: 12394 entries, 0 to 19280\n",
      "Data columns (total 28 columns):\n",
      " #   Column                           Non-Null Count  Dtype \n",
      "---  ------                           --------------  ----- \n",
      " 0   job_title                        12393 non-null  object\n",
      " 1   company                          12393 non-null  object\n",
      " 2   job_location                     12224 non-null  object\n",
      " 3   zip_code                         4951 non-null   object\n",
      " 4   salary                           954 non-null    object\n",
      " 5   contract_type                    2955 non-null   object\n",
      " 6   remote                           2265 non-null   object\n",
      " 7   Langages de Programmation        5456 non-null   object\n",
      " 8   Bases de Données                 1585 non-null   object\n",
      " 9   Analyse de Données               683 non-null    object\n",
      " 10  Big Data                         1126 non-null   object\n",
      " 11  Machine Learning et Data Mining  587 non-null    object\n",
      " 12  Visualisation de Données         1546 non-null   object\n",
      " 13  Statistiques                     13 non-null     object\n",
      " 14  Cloud Computing                  3453 non-null   object\n",
      " 15  Outils de Développement          6155 non-null   object\n",
      " 16  Systèmes d'Exploitation          1243 non-null   object\n",
      " 17  Big Data et Processing           200 non-null    object\n",
      " 18  Automatisation et Orchestration  2883 non-null   object\n",
      " 19  Infrastructure as Code (IaC)     871 non-null    object\n",
      " 20  Sécurité et Réseau               295 non-null    object\n",
      " 21  Virtualisation                   281 non-null    object\n",
      " 22  Containers                       1887 non-null   object\n",
      " 23  Outils de Collaboration          2110 non-null   object\n",
      " 24  Compétences                      7566 non-null   object\n",
      " 25  company_size                     3143 non-null   object\n",
      " 26  company_turnover                 2149 non-null   object\n",
      " 27  company_industry                 3963 non-null   object\n",
      "dtypes: object(28)\n",
      "memory usage: 2.7+ MB\n"
     ]
    }
   ],
   "source": [
    "df_no_duplicates.info()"
   ],
   "metadata": {
    "collapsed": false,
    "ExecuteTime": {
     "end_time": "2024-02-08T13:32:02.212909Z",
     "start_time": "2024-02-08T13:32:02.204447Z"
    }
   },
   "id": "4bc30f99e47eca1f",
   "execution_count": 12
  },
  {
   "cell_type": "code",
   "outputs": [],
   "source": [
    "df_no_duplicates.to_json('indeed_final_db_v2.json', orient='records', lines=True)"
   ],
   "metadata": {
    "collapsed": false,
    "ExecuteTime": {
     "end_time": "2024-02-08T13:32:38.407520Z",
     "start_time": "2024-02-08T13:32:38.347567Z"
    }
   },
   "id": "c33b4654cfc20c2a",
   "execution_count": 13
  },
  {
   "cell_type": "code",
   "outputs": [],
   "source": [],
   "metadata": {
    "collapsed": false
   },
   "id": "3cd6cbb0e175c384"
  }
 ],
 "metadata": {
  "kernelspec": {
   "display_name": "Python 3",
   "language": "python",
   "name": "python3"
  },
  "language_info": {
   "codemirror_mode": {
    "name": "ipython",
    "version": 2
   },
   "file_extension": ".py",
   "mimetype": "text/x-python",
   "name": "python",
   "nbconvert_exporter": "python",
   "pygments_lexer": "ipython2",
   "version": "2.7.6"
  }
 },
 "nbformat": 4,
 "nbformat_minor": 5
}
